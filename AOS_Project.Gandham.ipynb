{
 "cells": [
  {
   "cell_type": "markdown",
   "id": "0b6f0aee",
   "metadata": {},
   "source": [
    "<center><h2><b>CS5352: Advanced Operaitng System</b></h2></center>\n",
    "<center><h2>Project: Binary Search Tree VS Avl Search Tree</h2></center>\n",
    "<div style=\"text-align: right\">Name: Subhakari Mounika Gandham</div>\n",
    "<div style=\"text-align: right\">R Number: R11789255</div>"
   ]
  },
  {
   "cell_type": "markdown",
   "id": "34561525",
   "metadata": {},
   "source": [
    "<center><h3 style=\"color:MediumSeaGreen;\">ALGORITHM FOR BINARY SEARCH TREE</h3></center>"
   ]
  },
  {
   "cell_type": "code",
   "execution_count": 127,
   "id": "210b0dcb",
   "metadata": {},
   "outputs": [],
   "source": [
    "\n",
    "\n",
    "class BstNode:\n",
    "    \n",
    "    def __init__(self, bstNodeData, bstParentNode):\n",
    "        self.bstNodeData = bstNodeData\n",
    "        self.bstLeftNode = None\n",
    "        self.bstRightNode = None\n",
    "        self.bstParentNode = bstParentNode\n",
    "\n",
    "\n",
    "class BinarySearchTree:\n",
    "    \n",
    "    def __init__(self):\n",
    "        self.bstRootNode =  None\n",
    "    \n",
    "    def bstInsert(self, bstNodeData):\n",
    "        if not self.bstRootNode:\n",
    "            self.bstRootNode = BstNode(bstNodeData, None)\n",
    "        else:\n",
    "            self.bstInsertSub(bstNodeData, self.bstRootNode)\n",
    "    \n",
    "    def bstInsertSub(self, bstNodeData, bstNode):\n",
    "        \n",
    "        if bstNodeData < bstNode.bstNodeData:\n",
    "            if bstNode.bstLeftNode:\n",
    "                self.bstInsertSub(bstNodeData, bstNode.bstLeftNode)\n",
    "            else:\n",
    "                bstNode.bstLeftNode = BstNode(bstNodeData, bstNode)\n",
    "        else:\n",
    "            if bstNode.bstRightNode:\n",
    "                self.bstInsertSub(bstNodeData, bstNode.bstRightNode)\n",
    "            else:\n",
    "                bstNode.bstRightNode = BstNode(bstNodeData, bstNode)\n",
    "    \n",
    "    def bstTraverseInOrder(self):\n",
    "        \n",
    "        if self.bstRootNode is not None:\n",
    "            self.bstTraverseInOrderSub(self.bstRootNode)\n",
    "    \n",
    "\n",
    "        \n",
    "    def bstTraverseInOrderSub(self, bstNode):\n",
    "        \n",
    "        if bstNode.bstLeftNode:\n",
    "            self.bstTraverseInOrderSub(bstNode.bstLeftNode)\n",
    "        \n",
    "#         print(\"%s\" % bstNode.bstNodeData)\n",
    "        \n",
    "        if bstNode.bstRightNode:\n",
    "            self.bstTraverseInOrderSub(bstNode.bstRightNode)\n",
    "    \n",
    "    \n",
    "    def bstRemove(self, bstNodeData):\n",
    "        \n",
    "        if self.bstRootNode is not None:\n",
    "            self.bstRemoveSub(bstNodeData, self.bstRootNode)\n",
    "    \n",
    "    def bstRemoveSub(self, bstNodeData, bstNode):\n",
    "        \n",
    "        if bstNode is None:\n",
    "            return\n",
    "        \n",
    "        if bstNodeData < bstNode.bstNodeData:\n",
    "            self.bstremoveSub(bstNodeData, bstNode.bstLeftNode)\n",
    "        \n",
    "        elif bstNodeData > bstNode.bstNodeData:\n",
    "            self.bstRemoveSub(bstNodeData, bstNode.bstRightNode)\n",
    "        \n",
    "        else:\n",
    "            \n",
    "            if bstNode.bstLeftNode is None and bstNode.bstRightNode  is None:\n",
    "#                 print(\"removing the leaf node %d\" % bstNode.bstNodeData)\n",
    "                \n",
    "                bstParentNode = bstNode.bstParentNode\n",
    "                \n",
    "                if bstParentNode is not None and bstParentNode.bstLeftNode == bstNode:\n",
    "                    bstParentNode.bstLeftNode = None\n",
    "                if bstParentNode is not None and bstParentNode.bstRightNode == bstNode:\n",
    "                    bstParentNode.bstRightNode = None\n",
    "                if bstParentNode is None:\n",
    "                    self.bstRootNode = None\n",
    "                \n",
    "                del bstNode\n",
    "            \n",
    "            elif bstNode.bstLeftNode is not None and bstNode.bstRightNode is None:\n",
    "                \n",
    "                bstParentNode = bstNode.bstParentNode\n",
    "                \n",
    "                if bstParentNode is not None:\n",
    "                    if bstParentNode.bstLeftNode == bstNode:\n",
    "                        bstParentNode.bstLeftNode = bstNode.bstLeftNode\n",
    "                    if bstParentNode.bstRightNode == bstNode:\n",
    "                        bstParentNode.bstRightNode = bstNode.bstLeftNode\n",
    "                else:\n",
    "                    self.bstRootNode = bstNode.bstleftNode\n",
    "                \n",
    "                bstNode.bstLeftNode.bstParentNode = bstParentNode\n",
    "                \n",
    "                del bstNode\n",
    "                \n",
    "            elif bstNode.bstLeftNode is None and bstNode.bstRightNode is not None:\n",
    "                \n",
    "                bstParentNode = bstNode.bstParentNode\n",
    "                \n",
    "                if bstParentNode is not None:\n",
    "                    if bstParentNode.bstLeftNode == bstNode:\n",
    "                        bstParentNode.bstLeftNode = bstNode.bstRightNode\n",
    "                    if bstParentNode.bstRightNode == bstNode:\n",
    "                        bstParentNode.bstRightNode = bstNode.bstRightNode\n",
    "                else:\n",
    "                    self.bstRootNode = bstParentNode.bstRightNode\n",
    "                \n",
    "                bstNode.bstRightNode.bstParentNode = bstParentNode\n",
    "                \n",
    "                del bstNode\n",
    "            \n",
    "            else:\n",
    "                \n",
    "#                 print(\"removing node with two children\")\n",
    "                \n",
    "                bstPredecessor = self.getBstPredecessor(bstNode.bstLeftNode)\n",
    "                \n",
    "                temp = bstPredecessor.bstNodeData\n",
    "                bstPredecessor.bstNodeData = bstNode.bstNodeData\n",
    "                bstNode.bstNodeData = temp\n",
    "                \n",
    "                self.bstRemove(bstNodeData, bstPredecessor)\n",
    "    \n",
    "    \n",
    "    def getBstPredecessor(self, bstNode):\n",
    "        \n",
    "        if bstNode.bstNodeRight:\n",
    "            return self.getBstPredecessor(bstNode.bstNodeRight)\n",
    "        \n",
    "        return bstNode\n",
    "    \n",
    "\n"
   ]
  },
  {
   "cell_type": "markdown",
   "id": "609efb1e",
   "metadata": {},
   "source": [
    "<center><h3 style=\"color:MediumSeaGreen;\">ALGORITHM FOR AVL SEARCH TREE</h3></center>"
   ]
  },
  {
   "cell_type": "code",
   "execution_count": 128,
   "id": "d36d0fc3",
   "metadata": {},
   "outputs": [],
   "source": [
    "import sys\n",
    "\n",
    "# Create a tree node\n",
    "class TreeNode(object):\n",
    "    def __init__(self, key):\n",
    "        self.key = key\n",
    "        self.left = None\n",
    "        self.right = None\n",
    "        self.height = 1\n",
    "\n",
    "\n",
    "class AVLTree(object):\n",
    "\n",
    "    # Function to insert a node\n",
    "    def insert_node(self, root, key):\n",
    "\n",
    "        # Find the correct location and insert the node\n",
    "        if not root:\n",
    "            return TreeNode(key)\n",
    "        elif key < root.key:\n",
    "            root.left = self.insert_node(root.left, key)\n",
    "        else:\n",
    "            root.right = self.insert_node(root.right, key)\n",
    "\n",
    "        root.height = 1 + max(self.getHeight(root.left),\n",
    "                              self.getHeight(root.right))\n",
    "\n",
    "        # Update the balance factor and balance the tree\n",
    "        balanceFactor = self.getBalance(root)\n",
    "        if balanceFactor > 1:\n",
    "            if key < root.left.key:\n",
    "                return self.rightRotate(root)\n",
    "            else:\n",
    "                root.left = self.leftRotate(root.left)\n",
    "                return self.rightRotate(root)\n",
    "\n",
    "        if balanceFactor < -1:\n",
    "            if key > root.right.key:\n",
    "                return self.leftRotate(root)\n",
    "            else:\n",
    "                root.right = self.rightRotate(root.right)\n",
    "                return self.leftRotate(root)\n",
    "\n",
    "        return root\n",
    "\n",
    "    # Function to delete a node\n",
    "    def delete_node(self, root, key):\n",
    "\n",
    "        # Find the node to be deleted and remove it\n",
    "        if not root:\n",
    "            return root\n",
    "        elif key < root.key:\n",
    "            root.left = self.delete_node(root.left, key)\n",
    "        elif key > root.key:\n",
    "            root.right = self.delete_node(root.right, key)\n",
    "        else:\n",
    "            if root.left is None:\n",
    "                temp = root.right\n",
    "                root = None\n",
    "                return temp\n",
    "            elif root.right is None:\n",
    "                temp = root.left\n",
    "                root = None\n",
    "                return temp\n",
    "            temp = self.getMinValueNode(root.right)\n",
    "            root.key = temp.key\n",
    "            root.right = self.delete_node(root.right,\n",
    "                                          temp.key)\n",
    "        if root is None:\n",
    "            return root\n",
    "\n",
    "        # Update the balance factor of nodes\n",
    "        root.height = 1 + max(self.getHeight(root.left),\n",
    "                              self.getHeight(root.right))\n",
    "\n",
    "        balanceFactor = self.getBalance(root)\n",
    "\n",
    "        # Balance the tree\n",
    "        if balanceFactor > 1:\n",
    "            if self.getBalance(root.left) >= 0:\n",
    "                return self.rightRotate(root)\n",
    "            else:\n",
    "                root.left = self.leftRotate(root.left)\n",
    "                return self.rightRotate(root)\n",
    "        if balanceFactor < -1:\n",
    "            if self.getBalance(root.right) <= 0:\n",
    "                return self.leftRotate(root)\n",
    "            else:\n",
    "                root.right = self.rightRotate(root.right)\n",
    "                return self.leftRotate(root)\n",
    "        return root\n",
    "\n",
    "    # Function to perform left rotation\n",
    "    def leftRotate(self, z):\n",
    "        y = z.right\n",
    "        T2 = y.left\n",
    "        y.left = z\n",
    "        z.right = T2\n",
    "        z.height = 1 + max(self.getHeight(z.left),\n",
    "                           self.getHeight(z.right))\n",
    "        y.height = 1 + max(self.getHeight(y.left),\n",
    "                           self.getHeight(y.right))\n",
    "        return y\n",
    "\n",
    "    # Function to perform right rotation\n",
    "    def rightRotate(self, z):\n",
    "        y = z.left\n",
    "        T3 = y.right\n",
    "        y.right = z\n",
    "        z.left = T3\n",
    "        z.height = 1 + max(self.getHeight(z.left),\n",
    "                           self.getHeight(z.right))\n",
    "        y.height = 1 + max(self.getHeight(y.left),\n",
    "                           self.getHeight(y.right))\n",
    "        return y\n",
    "\n",
    "    # Get the height of the node\n",
    "    def getHeight(self, root):\n",
    "        if not root:\n",
    "            return 0\n",
    "        return root.height\n",
    "\n",
    "    # Get balance factore of the node\n",
    "    def getBalance(self, root):\n",
    "        if not root:\n",
    "            return 0\n",
    "        return self.getHeight(root.left) - self.getHeight(root.right)\n",
    "\n",
    "    def getMinValueNode(self, root):\n",
    "        if root is None or root.left is None:\n",
    "            return root\n",
    "        return self.getMinValueNode(root.left)\n",
    "\n",
    "    def inOrder(self, root):\n",
    "        if not root:\n",
    "            return\n",
    "        self.inOrder(root.left)\n",
    "#         print(\"{0} \".format(root.key), end=\"\")\n",
    "        self.inOrder(root.right)\n",
    "    \n",
    "\n"
   ]
  },
  {
   "cell_type": "markdown",
   "id": "a343e0b7",
   "metadata": {},
   "source": [
    "<center><h3 style=\"color:MediumSeaGreen;\">EVALUATION PROCEDURE FOR BINARY SEARCH TREE ALGORITHM</h3></center>"
   ]
  },
  {
   "cell_type": "code",
   "execution_count": 129,
   "id": "64f9e449",
   "metadata": {},
   "outputs": [],
   "source": [
    "\n",
    "def BstEvaluation(input_list): \n",
    "    \n",
    "    bst = BinarySearchTree() \n",
    "    for i in input_list:\n",
    "        bst.bstInsert(i)\n",
    "    bst.bstTraverseInOrder()"
   ]
  },
  {
   "cell_type": "markdown",
   "id": "a7ce374b",
   "metadata": {},
   "source": [
    "<center><h3 style=\"color:MediumSeaGreen;\">EVALUATION PROCEDURE FOR AVL SEARCH TREE</h3></center>"
   ]
  },
  {
   "cell_type": "code",
   "execution_count": 130,
   "id": "1f3e95f4",
   "metadata": {},
   "outputs": [],
   "source": [
    "\n",
    "def AvlEvaluation(input_list): \n",
    "    \n",
    "    avl = AVLTree()\n",
    "    root = None\n",
    "    for i in input_list:\n",
    "        root = avl.insert_node(root,i)\n",
    "    avl.inOrder(root)\n",
    "\n",
    "    \n"
   ]
  },
  {
   "cell_type": "markdown",
   "id": "527d7c45",
   "metadata": {},
   "source": [
    "<center><h3 style=\"color:MediumSeaGreen;\">METRICS GENERATION PROCEDURE</h3></center>\n",
    "<p style=\"color:MediumSeaGreen;\" > <b>\n",
    " 1.    CPU USAGE <br> \n",
    " 2.    MEMORY USAGE  <br>\n",
    " 3.    HARD DRIVE USAGE <br>\n",
    " 4.    RSS <br>\n",
    " 5.    VMS <br>\n",
    " 6.    NUMBER OF PAGE FAULTS\n",
    "</p>"
   ]
  },
  {
   "cell_type": "code",
   "execution_count": 131,
   "id": "f0cc9756",
   "metadata": {},
   "outputs": [],
   "source": [
    "import psutil\n",
    "import os\n",
    "def EvaluationMetrics():\n",
    "    procId = psutil.Process(os.getpid())\n",
    "#     print(\"pid is \" , procId)\n",
    "    cpu_percent = psutil.cpu_percent(interval=1, percpu=True)\n",
    "    ##load1,load5,load15 = psutil.getloadavg()\n",
    "    ##cpu_usage1 = (load15/os.cpu_count()) * 100\n",
    "    ##print(\"CPU Usage1\" , cpu_usage1)\n",
    "    memory_usage = procId.memory_percent()\n",
    "    disk_usage =psutil.disk_usage('/')\n",
    "    rss = procId.memory_full_info().rss\n",
    "    vms = procId.memory_full_info().vms\n",
    "    page_faults = procId.memory_full_info().num_page_faults\n",
    "    disk_percent = psutil.disk_usage('/').percent\n",
    "    return [sum(cpu_percent)/len(cpu_percent),memory_usage,disk_usage,rss,vms,page_faults,disk_percent]"
   ]
  },
  {
   "cell_type": "markdown",
   "id": "a8d89950",
   "metadata": {},
   "source": [
    "<center><h3 style=\"color:MediumSeaGreen;\">BST GENERATION PROCESS , AVL GENERATION PROCESS , CONCURRENT PROCESS </h3></center>\n"
   ]
  },
  {
   "cell_type": "code",
   "execution_count": 132,
   "id": "6d6920f8",
   "metadata": {},
   "outputs": [],
   "source": [
    "import multiprocessing\n",
    "import random\n",
    "import time\n",
    "\n",
    "inputs = [100,1000,5000,10000]\n",
    "Bst_Execution_Time=[]\n",
    "Avl_Execution_Time=[]\n",
    "Both_Execution_Time = []\n",
    "\n",
    "Both_cpu =[]\n",
    "Both_memory=[]\n",
    "Both_disk = []\n",
    "Both_disk_percent = []\n",
    "Both_rss =[]\n",
    "Both_vms = []\n",
    "Both_faults = []\n",
    "Both_Metric = []\n",
    "\n",
    "Bst_cpu =[]\n",
    "Bst_memory=[]\n",
    "Bst_disk = []\n",
    "Bst_disk_percent = []\n",
    "Bst_rss =[]\n",
    "Bst_vms = []\n",
    "Bst_faults = []\n",
    "Bst_Metric = []\n",
    "\n",
    "Avl_cpu =[]\n",
    "Avl_memory=[]\n",
    "Avl_disk = []\n",
    "Avl_disk_percent = []\n",
    "Avl_rss =[]\n",
    "Avl_vms = []\n",
    "Avl_faults = []\n",
    "Avl_Metric =[]\n",
    "\n",
    "\n",
    "\n",
    "input_list=[]\n",
    "for inp in inputs: \n",
    "#     for i in range(0,inp):\n",
    "#         x = random.randint(0,2000000)\n",
    "#         input_list.append(x)\n",
    "    input_list = random.sample(range(1, 2000000), inp)\n",
    "    start_time = time.time()\n",
    "    BstEvaluation(input_list)\n",
    "    end_time = time.time()\n",
    "    Bst_Execution_Time.append(round((end_time - start_time),4))\n",
    "    Bst_Metric = EvaluationMetrics()\n",
    "    Bst_cpu.append(round(Bst_Metric[0],4))\n",
    "    Bst_memory.append(round(Bst_Metric[1],4))\n",
    "    Bst_disk.append(Bst_Metric[2])\n",
    "    Bst_rss.append(Bst_Metric[3])\n",
    "    Bst_vms.append(Bst_Metric[4])\n",
    "    Bst_faults.append(Bst_Metric[5])\n",
    "    Bst_disk_percent.append(Bst_Metric[6])\n",
    "    \n",
    "    start_time = time.time()\n",
    "    AvlEvaluation(input_list)\n",
    "    end_time = time.time()\n",
    "    Avl_Execution_Time.append(round((end_time - start_time),4))\n",
    "    Avl_Metric = EvaluationMetrics()\n",
    "    Avl_cpu.append(round(Avl_Metric[0],4))\n",
    "    Avl_memory.append(round(Avl_Metric[1],4))\n",
    "    Avl_disk.append(Avl_Metric[2])\n",
    "    Avl_rss.append(Avl_Metric[3])\n",
    "    Avl_vms.append(Avl_Metric[4])\n",
    "    Avl_faults.append(Avl_Metric[5])\n",
    "    Avl_disk_percent.append(Avl_Metric[6])\n",
    "    \n",
    "    p1 = multiprocessing.Process(target = BstEvaluation,args=(input_list, ))\n",
    "    p2 = multiprocessing.Process(target= AvlEvaluation, args=(input_list, ))\n",
    "    \n",
    "    start_time = time.time()\n",
    "    p1.start()\n",
    "    p2.start()\n",
    "    p1.join()\n",
    "    p2.join()\n",
    "    end_time = time.time()\n",
    "    Both_Execution_Time.append(round((end_time - start_time),4))\n",
    "    Both_Metric = EvaluationMetrics()\n",
    "    Both_cpu.append(round(Both_Metric[0],4))\n",
    "    Both_memory.append(round(Both_Metric[1],4))\n",
    "    Both_disk.append(Both_Metric[2])\n",
    "    Both_rss.append(Both_Metric[3])\n",
    "    Both_vms.append(Both_Metric[4])\n",
    "    Both_faults.append(Both_Metric[5])\n",
    "    Both_disk_percent.append(Both_Metric[6])\n",
    "    \n",
    "    \n",
    "# print(Bst_Execution_Time)\n",
    "# print(Avl_Execution_Time)\n",
    "# print(Both_Execution_Time)\n",
    "\n"
   ]
  },
  {
   "cell_type": "markdown",
   "id": "7e75c717",
   "metadata": {},
   "source": [
    "<center><h3 style=\"color:MediumSeaGreen;\">METRICS DISPLAY FOR BINARY SEARCH TREE</h3></center> "
   ]
  },
  {
   "cell_type": "code",
   "execution_count": 133,
   "id": "c3e97fe5",
   "metadata": {},
   "outputs": [
    {
     "name": "stdout",
     "output_type": "stream",
     "text": [
      "Evalution metrics for Binary Search Tree Algorithm\n",
      "**************************************************\n",
      "EXECUTION TIMES\n",
      "CPU USAGE\n",
      "MEMORY USAGE\n",
      "DISK USAGE\n",
      "RSS\n",
      "VMS\n",
      "PAGE FAULTS\n",
      "**************************************************\n",
      "\n",
      "Execution Time for input 100 :  0.0\n",
      "-----------------------------------------------------------------------------------------------------------\n",
      "Execution Time for input 1000 :  0.005\n",
      "-----------------------------------------------------------------------------------------------------------\n",
      "Execution Time for input 5000 :  0.032\n",
      "-----------------------------------------------------------------------------------------------------------\n",
      "Execution Time for input 10000 :  0.067\n",
      "-----------------------------------------------------------------------------------------------------------\n",
      "\n",
      "Cpu Usage for input 100 :   23.2\n",
      "-----------------------------------------------------------------------------------------------------------\n",
      "Cpu Usage for input 1000 :   4.625\n",
      "-----------------------------------------------------------------------------------------------------------\n",
      "Cpu Usage for input 5000 :   6.225\n",
      "-----------------------------------------------------------------------------------------------------------\n",
      "Cpu Usage for input 10000 :   3.1\n",
      "-----------------------------------------------------------------------------------------------------------\n",
      "\n",
      "Memory usage for input 100 :   1.5603\n",
      "-----------------------------------------------------------------------------------------------------------\n",
      "Memory usage for input 1000 :   1.5641\n",
      "-----------------------------------------------------------------------------------------------------------\n",
      "Memory usage for input 5000 :   1.5677\n",
      "-----------------------------------------------------------------------------------------------------------\n",
      "Memory usage for input 10000 :   1.4913\n",
      "-----------------------------------------------------------------------------------------------------------\n",
      "\n",
      "Disk usage for input 100 :   sdiskusage(total=315992444928, used=233242353664, free=82750091264, percent=73.8)\n",
      "-----------------------------------------------------------------------------------------------------------\n",
      "Disk usage for input 1000 :   sdiskusage(total=315992444928, used=233242484736, free=82749960192, percent=73.8)\n",
      "-----------------------------------------------------------------------------------------------------------\n",
      "Disk usage for input 5000 :   sdiskusage(total=315992444928, used=233242488832, free=82749956096, percent=73.8)\n",
      "-----------------------------------------------------------------------------------------------------------\n",
      "Disk usage for input 10000 :   sdiskusage(total=315992444928, used=233242423296, free=82750021632, percent=73.8)\n",
      "-----------------------------------------------------------------------------------------------------------\n",
      "\n",
      "RSS for input 100 :   132526080\n",
      "-----------------------------------------------------------------------------------------------------------\n",
      "RSS for input 1000 :   132849664\n",
      "-----------------------------------------------------------------------------------------------------------\n",
      "RSS for input 5000 :   133156864\n",
      "-----------------------------------------------------------------------------------------------------------\n",
      "RSS for input 10000 :   126664704\n",
      "-----------------------------------------------------------------------------------------------------------\n",
      "\n",
      "VMS for input 100 :   160735232\n",
      "-----------------------------------------------------------------------------------------------------------\n",
      "VMS for input 1000 :   160735232\n",
      "-----------------------------------------------------------------------------------------------------------\n",
      "VMS for input 5000 :   160735232\n",
      "-----------------------------------------------------------------------------------------------------------\n",
      "VMS for input 10000 :   153460736\n",
      "-----------------------------------------------------------------------------------------------------------\n",
      "\n",
      "Page Faults for input 100 :   118987\n",
      "-----------------------------------------------------------------------------------------------------------\n",
      "Page Faults for input 1000 :   118987\n",
      "-----------------------------------------------------------------------------------------------------------\n",
      "Page Faults for input 5000 :   119062\n",
      "-----------------------------------------------------------------------------------------------------------\n",
      "Page Faults for input 10000 :   119128\n",
      "-----------------------------------------------------------------------------------------------------------\n"
     ]
    }
   ],
   "source": [
    "\n",
    "print(\"Evalution metrics for Binary Search Tree Algorithm\")\n",
    "print(\"**************************************************\")\n",
    "print(\"EXECUTION TIMES\")\n",
    "print(\"CPU USAGE\")\n",
    "print(\"MEMORY USAGE\")\n",
    "print(\"DISK USAGE\")\n",
    "print(\"RSS\")\n",
    "print(\"VMS\")\n",
    "print(\"PAGE FAULTS\")\n",
    "print(\"**************************************************\")\n",
    "print()\n",
    "\n",
    "for inp in range(len(Bst_Execution_Time)):\n",
    "    print(\"Execution Time for input\" , inputs[inp] , \": \", Bst_Execution_Time[inp])\n",
    "    print(\"-----------------------------------------------------------------------------------------------------------\")\n",
    "\n",
    "print()\n",
    "\n",
    "for inp in range(len(Bst_cpu)):\n",
    "    print(\"Cpu Usage for input\" ,inputs[inp] , \":  \", Bst_cpu[inp])\n",
    "    print(\"-----------------------------------------------------------------------------------------------------------\")\n",
    "\n",
    "\n",
    "print()\n",
    "\n",
    "for inp in range(len(Bst_memory)):\n",
    "    print(\"Memory usage for input\", inputs[inp], \":  \", Bst_memory[inp])\n",
    "    print(\"-----------------------------------------------------------------------------------------------------------\")\n",
    "\n",
    "    \n",
    "print()\n",
    "\n",
    "for inp in range(len(Bst_disk)):\n",
    "    print(\"Disk usage for input\", inputs[inp], \":  \", Bst_disk[inp])\n",
    "    print(\"-----------------------------------------------------------------------------------------------------------\")\n",
    "\n",
    "    \n",
    "print()\n",
    "\n",
    "for inp in range(len(Bst_rss)):\n",
    "    print(\"RSS for input\", inputs[inp], \":  \", Bst_rss[inp])\n",
    "    print(\"-----------------------------------------------------------------------------------------------------------\")\n",
    "\n",
    "    \n",
    "print()\n",
    "\n",
    "for inp in range(len(Bst_vms)):\n",
    "    print(\"VMS for input\", inputs[inp], \":  \", Bst_vms[inp])\n",
    "    print(\"-----------------------------------------------------------------------------------------------------------\")\n",
    "\n",
    "print()\n",
    "\n",
    "for inp in range(len(Bst_faults)):\n",
    "    print(\"Page Faults for input\", inputs[inp], \":  \", Bst_faults[inp])\n",
    "    print(\"-----------------------------------------------------------------------------------------------------------\")\n",
    "\n"
   ]
  },
  {
   "cell_type": "markdown",
   "id": "b0444458",
   "metadata": {},
   "source": [
    "<center><h3 style=\"color:MediumSeaGreen;\">METRICS DISPLAY FOR AVL SEARCH TREE</h3></center> "
   ]
  },
  {
   "cell_type": "code",
   "execution_count": 134,
   "id": "b15a104b",
   "metadata": {},
   "outputs": [
    {
     "name": "stdout",
     "output_type": "stream",
     "text": [
      "Evalution metrics for AVL Tree Algorithm\n",
      "**************************************************\n",
      "EXECUTION TIMES\n",
      "CPU USAGE\n",
      "MEMORY USAGE\n",
      "DISK USAGE\n",
      "RSS\n",
      "VMS\n",
      "PAGE FAULTS\n",
      "**************************************************\n",
      "\n",
      "Execution Time for input 100 :  0.004\n",
      "-----------------------------------------------------------------------------------------------------------\n",
      "Execution Time for input 1000 :  0.017\n",
      "-----------------------------------------------------------------------------------------------------------\n",
      "Execution Time for input 5000 :  0.2979\n",
      "-----------------------------------------------------------------------------------------------------------\n",
      "Execution Time for input 10000 :  0.2308\n",
      "-----------------------------------------------------------------------------------------------------------\n",
      "\n",
      "Cpu Usage for input 100 :   28.225\n",
      "-----------------------------------------------------------------------------------------------------------\n",
      "Cpu Usage for input 1000 :   11.4\n",
      "-----------------------------------------------------------------------------------------------------------\n",
      "Cpu Usage for input 5000 :   7.575\n",
      "-----------------------------------------------------------------------------------------------------------\n",
      "Cpu Usage for input 10000 :   7.375\n",
      "-----------------------------------------------------------------------------------------------------------\n",
      "\n",
      "Memory usage for input 100 :   1.5641\n",
      "-----------------------------------------------------------------------------------------------------------\n",
      "Memory usage for input 1000 :   1.5641\n",
      "-----------------------------------------------------------------------------------------------------------\n",
      "Memory usage for input 5000 :   1.4903\n",
      "-----------------------------------------------------------------------------------------------------------\n",
      "Memory usage for input 10000 :   1.4913\n",
      "-----------------------------------------------------------------------------------------------------------\n",
      "\n",
      "Disk usage for input 100 :   sdiskusage(total=315992444928, used=233242419200, free=82750025728, percent=73.8)\n",
      "-----------------------------------------------------------------------------------------------------------\n",
      "Disk usage for input 1000 :   sdiskusage(total=315992444928, used=233242484736, free=82749960192, percent=73.8)\n",
      "-----------------------------------------------------------------------------------------------------------\n",
      "Disk usage for input 5000 :   sdiskusage(total=315992444928, used=233242554368, free=82749890560, percent=73.8)\n",
      "-----------------------------------------------------------------------------------------------------------\n",
      "Disk usage for input 10000 :   sdiskusage(total=315992444928, used=233242427392, free=82750017536, percent=73.8)\n",
      "-----------------------------------------------------------------------------------------------------------\n",
      "\n",
      "RSS for input 100 :   132849664\n",
      "-----------------------------------------------------------------------------------------------------------\n",
      "RSS for input 1000 :   132849664\n",
      "-----------------------------------------------------------------------------------------------------------\n",
      "RSS for input 5000 :   126578688\n",
      "-----------------------------------------------------------------------------------------------------------\n",
      "RSS for input 10000 :   126664704\n",
      "-----------------------------------------------------------------------------------------------------------\n",
      "\n",
      "VMS for input 100 :   160735232\n",
      "-----------------------------------------------------------------------------------------------------------\n",
      "VMS for input 1000 :   160735232\n",
      "-----------------------------------------------------------------------------------------------------------\n",
      "VMS for input 5000 :   153460736\n",
      "-----------------------------------------------------------------------------------------------------------\n",
      "VMS for input 10000 :   153460736\n",
      "-----------------------------------------------------------------------------------------------------------\n",
      "\n",
      "Page Faults for input 100 :   118987\n",
      "-----------------------------------------------------------------------------------------------------------\n",
      "Page Faults for input 1000 :   118987\n",
      "-----------------------------------------------------------------------------------------------------------\n",
      "Page Faults for input 5000 :   119119\n",
      "-----------------------------------------------------------------------------------------------------------\n",
      "Page Faults for input 10000 :   119128\n",
      "-----------------------------------------------------------------------------------------------------------\n"
     ]
    }
   ],
   "source": [
    "\n",
    "print(\"Evalution metrics for AVL Tree Algorithm\")\n",
    "print(\"**************************************************\")\n",
    "print(\"EXECUTION TIMES\")\n",
    "print(\"CPU USAGE\")\n",
    "print(\"MEMORY USAGE\")\n",
    "print(\"DISK USAGE\")\n",
    "print(\"RSS\")\n",
    "print(\"VMS\")\n",
    "print(\"PAGE FAULTS\")\n",
    "print(\"**************************************************\")\n",
    "print()\n",
    "\n",
    "for inp in range(len(Avl_Execution_Time)):\n",
    "    print(\"Execution Time for input\" , inputs[inp] , \": \", Avl_Execution_Time[inp])\n",
    "    print(\"-----------------------------------------------------------------------------------------------------------\")\n",
    "\n",
    "print()    \n",
    "    \n",
    "for inp in range(len(Avl_cpu)):\n",
    "    print(\"Cpu Usage for input\" ,inputs[inp] , \":  \", Avl_cpu[inp])\n",
    "    print(\"-----------------------------------------------------------------------------------------------------------\")\n",
    "\n",
    "print()\n",
    "\n",
    "for inp in range(len(Avl_memory)):\n",
    "    print(\"Memory usage for input\", inputs[inp], \":  \", Avl_memory[inp])\n",
    "    print(\"-----------------------------------------------------------------------------------------------------------\")\n",
    "\n",
    "    \n",
    "print()\n",
    "\n",
    "for inp in range(len(Avl_disk)):\n",
    "    print(\"Disk usage for input\", inputs[inp], \":  \", Avl_disk[inp])\n",
    "    print(\"-----------------------------------------------------------------------------------------------------------\")\n",
    "\n",
    "    \n",
    "print()\n",
    "\n",
    "for inp in range(len(Avl_rss)):\n",
    "    print(\"RSS for input\", inputs[inp], \":  \", Avl_rss[inp])\n",
    "    print(\"-----------------------------------------------------------------------------------------------------------\")\n",
    "\n",
    "    \n",
    "print()\n",
    "\n",
    "for inp in range(len(Avl_vms)):\n",
    "    print(\"VMS for input\", inputs[inp], \":  \", Avl_vms[inp])\n",
    "    print(\"-----------------------------------------------------------------------------------------------------------\")\n",
    "\n",
    "\n",
    "print()\n",
    "\n",
    "for inp in range(len(Avl_faults)):\n",
    "    print(\"Page Faults for input\", inputs[inp], \":  \", Avl_faults[inp])\n",
    "    print(\"-----------------------------------------------------------------------------------------------------------\")\n",
    "\n",
    "\n"
   ]
  },
  {
   "cell_type": "markdown",
   "id": "778f04d3",
   "metadata": {},
   "source": [
    "<center><h3 style=\"color:MediumSeaGreen;\">METRICS DISPLAY FOR CONCURRENT PROCESS</h3></center> "
   ]
  },
  {
   "cell_type": "code",
   "execution_count": 135,
   "id": "87506e3b",
   "metadata": {},
   "outputs": [
    {
     "name": "stdout",
     "output_type": "stream",
     "text": [
      "Evalution metrics for Both Algorithms , concurrent processes\n",
      "**************************************************\n",
      "EXECUTION TIMES\n",
      "CPU USAGE\n",
      "MEMORY USAGE\n",
      "DISK USAGE\n",
      "RSS\n",
      "VMS\n",
      "PAGE FAULTS\n",
      "**************************************************\n",
      "\n",
      "Execution Times  for input 100 :   0.1869\n",
      "-----------------------------------------------------------------------------------------------------------\n",
      "Execution Times  for input 1000 :   0.3237\n",
      "-----------------------------------------------------------------------------------------------------------\n",
      "Execution Times  for input 5000 :   0.2999\n",
      "-----------------------------------------------------------------------------------------------------------\n",
      "Execution Times  for input 10000 :   0.269\n",
      "-----------------------------------------------------------------------------------------------------------\n",
      "\n",
      "Cpu Usage for input 100 :   8.05\n",
      "-----------------------------------------------------------------------------------------------------------\n",
      "Cpu Usage for input 1000 :   5.775\n",
      "-----------------------------------------------------------------------------------------------------------\n",
      "Cpu Usage for input 5000 :   8.925\n",
      "-----------------------------------------------------------------------------------------------------------\n",
      "Cpu Usage for input 10000 :   6.375\n",
      "-----------------------------------------------------------------------------------------------------------\n",
      "\n",
      "Memory usage for input 100 :   1.5641\n",
      "-----------------------------------------------------------------------------------------------------------\n",
      "Memory usage for input 1000 :   1.5642\n",
      "-----------------------------------------------------------------------------------------------------------\n",
      "Memory usage for input 5000 :   1.4913\n",
      "-----------------------------------------------------------------------------------------------------------\n",
      "Memory usage for input 10000 :   1.4913\n",
      "-----------------------------------------------------------------------------------------------------------\n",
      "\n",
      "Disk usage for input 100 :   sdiskusage(total=315992444928, used=233242484736, free=82749960192, percent=73.8)\n",
      "-----------------------------------------------------------------------------------------------------------\n",
      "Disk usage for input 1000 :   sdiskusage(total=315992444928, used=233242488832, free=82749956096, percent=73.8)\n",
      "-----------------------------------------------------------------------------------------------------------\n",
      "Disk usage for input 5000 :   sdiskusage(total=315992444928, used=233242554368, free=82749890560, percent=73.8)\n",
      "-----------------------------------------------------------------------------------------------------------\n",
      "Disk usage for input 10000 :   sdiskusage(total=315992444928, used=233242427392, free=82750017536, percent=73.8)\n",
      "-----------------------------------------------------------------------------------------------------------\n",
      "\n",
      "RSS for input 100 :   132849664\n",
      "-----------------------------------------------------------------------------------------------------------\n",
      "RSS for input 1000 :   132853760\n",
      "-----------------------------------------------------------------------------------------------------------\n",
      "RSS for input 5000 :   126660608\n",
      "-----------------------------------------------------------------------------------------------------------\n",
      "RSS for input 10000 :   126664704\n",
      "-----------------------------------------------------------------------------------------------------------\n",
      "\n",
      "VMS for input 100 :   160735232\n",
      "-----------------------------------------------------------------------------------------------------------\n",
      "VMS for input 1000 :   160735232\n",
      "-----------------------------------------------------------------------------------------------------------\n",
      "VMS for input 5000 :   153460736\n",
      "-----------------------------------------------------------------------------------------------------------\n",
      "VMS for input 10000 :   153460736\n",
      "-----------------------------------------------------------------------------------------------------------\n",
      "\n",
      "Page Faults for input 100 :   118987\n",
      "-----------------------------------------------------------------------------------------------------------\n",
      "Page Faults for input 1000 :   118988\n",
      "-----------------------------------------------------------------------------------------------------------\n",
      "Page Faults for input 5000 :   119127\n",
      "-----------------------------------------------------------------------------------------------------------\n",
      "Page Faults for input 10000 :   119128\n",
      "-----------------------------------------------------------------------------------------------------------\n"
     ]
    }
   ],
   "source": [
    "\n",
    "print(\"Evalution metrics for Both Algorithms , concurrent processes\")\n",
    "print(\"**************************************************\")\n",
    "print(\"EXECUTION TIMES\")\n",
    "print(\"CPU USAGE\")\n",
    "print(\"MEMORY USAGE\")\n",
    "print(\"DISK USAGE\")\n",
    "print(\"RSS\")\n",
    "print(\"VMS\")\n",
    "print(\"PAGE FAULTS\")\n",
    "print(\"**************************************************\")\n",
    "print()\n",
    "\n",
    "for inp in range(len(Both_cpu)):\n",
    "    print(\"Execution Times  for input\" ,inputs[inp] , \":  \", Both_Execution_Time[inp])\n",
    "    print(\"-----------------------------------------------------------------------------------------------------------\")\n",
    "\n",
    "print()\n",
    "\n",
    "for inp in range(len(Both_cpu)):\n",
    "    print(\"Cpu Usage for input\" ,inputs[inp] , \":  \", Both_cpu[inp])\n",
    "    print(\"-----------------------------------------------------------------------------------------------------------\")\n",
    "\n",
    "\n",
    "print()\n",
    "\n",
    "for inp in range(len(Both_memory)):\n",
    "    print(\"Memory usage for input\", inputs[inp], \":  \", Both_memory[inp])\n",
    "    print(\"-----------------------------------------------------------------------------------------------------------\")\n",
    "\n",
    "    \n",
    "print()\n",
    "\n",
    "for inp in range(len(Both_disk)):\n",
    "    print(\"Disk usage for input\", inputs[inp], \":  \", Both_disk[inp])\n",
    "    print(\"-----------------------------------------------------------------------------------------------------------\")\n",
    "\n",
    "    \n",
    "print()\n",
    "\n",
    "for inp in range(len(Both_rss)):\n",
    "    print(\"RSS for input\", inputs[inp], \":  \", Both_rss[inp])\n",
    "    print(\"-----------------------------------------------------------------------------------------------------------\")\n",
    "\n",
    "    \n",
    "print()\n",
    "\n",
    "for inp in range(len(Both_vms)):\n",
    "    print(\"VMS for input\", inputs[inp], \":  \", Both_vms[inp])\n",
    "    print(\"-----------------------------------------------------------------------------------------------------------\")\n",
    "\n",
    "\n",
    "print()\n",
    "\n",
    "for inp in range(len(Both_faults)):\n",
    "    print(\"Page Faults for input\", inputs[inp], \":  \", Both_faults[inp])\n",
    "    print(\"-----------------------------------------------------------------------------------------------------------\")\n",
    "\n",
    "\n"
   ]
  },
  {
   "cell_type": "markdown",
   "id": "236f9996",
   "metadata": {},
   "source": [
    "<center><h3 style=\"color:MediumSeaGreen;\" >GRAPH DISPLAY FOR COMPARING BST, AVL, CONCURRENT PROCESS METRICS</h3></center>"
   ]
  },
  {
   "cell_type": "markdown",
   "id": "8483cae5",
   "metadata": {},
   "source": [
    "<center><h3  style=\"color:MediumSeaGreen;\" >Independent  Comparision  Of Execution Times For  BST   AVL  Concurrent Process</h3></center>"
   ]
  },
  {
   "cell_type": "code",
   "execution_count": 136,
   "id": "dd7865df",
   "metadata": {},
   "outputs": [
    {
     "data": {
      "image/png": "[encoded data removed]",
      "text/plain": [
       "<Figure size 1440x288 with 3 Axes>"
      ]
     },
     "metadata": {
      "needs_background": "light"
     },
     "output_type": "display_data"
    }
   ],
   "source": [
    "import matplotlib.pyplot as plt\n",
    "\n",
    "##inputs = [1000,10000,100000]\n",
    "def addlabels(x,y):\n",
    "    for i in range(len(x)):\n",
    "        plt.text(i, y[i], y[i], ha = 'center')\n",
    "xvalues = [str(i) for i in inputs]\n",
    "\n",
    "fig = plt.figure(figsize=(20,4))\n",
    "ax1 = plt.subplot(1, 3, 1)\n",
    "color = [\"#eb8060\", \"#b9e38d\", \"#a1e9f0\", \"#d9b1f0\"]\n",
    "ax1.bar(xvalues, Bst_Execution_Time, color = color)\n",
    "addlabels(xvalues, Bst_Execution_Time)\n",
    "plt.ylabel('BST Execution Time Metrics')\n",
    "plt.xlabel('Range of Inputs')\n",
    "\n",
    "ax2 = plt.subplot(1, 3, 2)\n",
    "ax2.bar(xvalues, Avl_Execution_Time, color = color)\n",
    "addlabels(xvalues, Avl_Execution_Time)\n",
    "plt.ylabel('AVL Execution Time Metrics')\n",
    "plt.xlabel('Range of Inputs')\n",
    "\n",
    "ax3 = plt.subplot(1, 3, 3 )\n",
    "ax3.bar(xvalues, Both_Execution_Time, color = color)\n",
    "addlabels(xvalues, Both_Execution_Time)\n",
    "plt.ylabel('Both Execution Time Metrics')\n",
    "plt.xlabel('Range of Inputs')\n",
    "\n",
    "    \n",
    "plt.show()\n"
   ]
  },
  {
   "cell_type": "markdown",
   "id": "ef4b1f15",
   "metadata": {},
   "source": [
    "<center><h3  style=\"color:MediumSeaGreen;\" >Independent  Comparision  Of CPU Usages For  BST   AVL  Concurrent Process</h3></center>"
   ]
  },
  {
   "cell_type": "code",
   "execution_count": 137,
   "id": "487f95f1",
   "metadata": {},
   "outputs": [
    {
     "data": {
      "image/png": "[encoded data removed]",
      "text/plain": [
       "<Figure size 1440x288 with 3 Axes>"
      ]
     },
     "metadata": {
      "needs_background": "light"
     },
     "output_type": "display_data"
    }
   ],
   "source": [
    "def addlabels(x,y):\n",
    "    for i in range(len(x)):\n",
    "        plt.text(i, y[i], y[i], ha = 'center')\n",
    "        \n",
    "xvalues = [str(i) for i in inputs]\n",
    "fig = plt.figure(figsize=(20,4))\n",
    "\n",
    "color = [\"#eb8060\", \"#b9e38d\", \"#a1e9f0\", \"#d9b1f0\"]\n",
    "\n",
    "ax1 = plt.subplot(1, 3, 1)\n",
    "ax1.bar(xvalues, Bst_cpu, color = color)\n",
    "addlabels(xvalues, Bst_cpu)\n",
    "plt.ylabel('BST CPU Usage Metrics')\n",
    "plt.xlabel('Range of Inputs')\n",
    "\n",
    "ax2 = plt.subplot(1, 3, 2)\n",
    "ax2.bar(xvalues, Avl_cpu, color = color)\n",
    "addlabels(xvalues, Avl_cpu)\n",
    "plt.ylabel('AVL CPU Usage Metrics')\n",
    "plt.xlabel('Range of Inputs')\n",
    "\n",
    "ax3 = plt.subplot(1, 3, 3)\n",
    "ax3.bar(xvalues, Both_cpu, color = color)\n",
    "addlabels(xvalues, Both_cpu)\n",
    "plt.ylabel('Both Cpu Usage Metrics')\n",
    "plt.xlabel('Range of Inputs')\n",
    "\n",
    "plt.show()\n"
   ]
  },
  {
   "cell_type": "markdown",
   "id": "1d2e32ab",
   "metadata": {},
   "source": [
    "<center><h3  style=\"color:MediumSeaGreen;\" >Independent  Comparision  Of Memory Usages For  BST   AVL  Concurrent Process</h3></center>"
   ]
  },
  {
   "cell_type": "code",
   "execution_count": 138,
   "id": "0b4afb70",
   "metadata": {},
   "outputs": [
    {
     "data": {
      "image/png": "[encoded data removed]",
      "text/plain": [
       "<Figure size 1440x288 with 3 Axes>"
      ]
     },
     "metadata": {
      "needs_background": "light"
     },
     "output_type": "display_data"
    }
   ],
   "source": [
    "def addlabels(x,y):\n",
    "    for i in range(len(x)):\n",
    "        plt.text(i, y[i], y[i], ha = 'center')\n",
    "xvalues = [str(i) for i in inputs]\n",
    "\n",
    "fig = plt.figure(figsize=(20,4))\n",
    "color = [\"#eb8060\", \"#b9e38d\", \"#a1e9f0\", \"#d9b1f0\"] \n",
    "\n",
    "ax1 = plt.subplot(1, 3, 1)\n",
    "ax1.bar(xvalues, Bst_memory, color = color)\n",
    "addlabels(xvalues, Bst_memory)\n",
    "plt.ylabel('BST Memory Usage Metrics')\n",
    "plt.xlabel('Range of Inputs')\n",
    "\n",
    "ax2 = plt.subplot(1, 3, 2)\n",
    "ax2.bar(xvalues, Avl_memory, color = color)\n",
    "addlabels(xvalues, Avl_memory)\n",
    "plt.ylabel('AVL Memory Usage Metrics')\n",
    "plt.xlabel('Range of Inputs')\n",
    "\n",
    "ax3 = plt.subplot(1, 3, 3)\n",
    "ax3.bar(xvalues, Both_memory, color = color)\n",
    "addlabels(xvalues, Both_memory)\n",
    "plt.ylabel('Both Memory Usage Metrics')\n",
    "plt.xlabel('Range of Inputs')\n",
    "\n",
    "plt.show()"
   ]
  },
  {
   "cell_type": "markdown",
   "id": "a39e42f5",
   "metadata": {},
   "source": [
    "<center><h3  style=\"color:MediumSeaGreen;\" >Independent  Comparision  Of Disk Usage For  BST   AVL  Concurrent Process</h3></center>"
   ]
  },
  {
   "cell_type": "code",
   "execution_count": 139,
   "id": "a2655406",
   "metadata": {},
   "outputs": [
    {
     "data": {
      "image/png": "[encoded data removed]",
      "text/plain": [
       "<Figure size 1440x288 with 3 Axes>"
      ]
     },
     "metadata": {
      "needs_background": "light"
     },
     "output_type": "display_data"
    }
   ],
   "source": [
    "def addlabels(x,y):\n",
    "    for i in range(len(x)):\n",
    "        plt.text(i, y[i], y[i], ha = 'center')\n",
    "xvalues = [str(i) for i in inputs]\n",
    "color = [\"#eb8060\", \"#b9e38d\", \"#a1e9f0\", \"#d9b1f0\"] \n",
    "fig = plt.figure(figsize=(20,4))\n",
    "\n",
    "ax1 = plt.subplot(1, 3, 1)\n",
    "ax1.bar(xvalues, Bst_disk_percent, color = color)\n",
    "addlabels(xvalues, Bst_disk_percent)\n",
    "plt.ylabel('BST Disk Usage Metrics')\n",
    "plt.xlabel('Range of Inputs')\n",
    "\n",
    "ax2 = plt.subplot(1, 3, 2)\n",
    "ax2.bar(xvalues, Bst_disk_percent, color = color)\n",
    "addlabels(xvalues, Bst_disk_percent)\n",
    "plt.ylabel('BST Disk Usage Metrics')\n",
    "plt.xlabel('Range of Inputs')\n",
    "\n",
    "ax3 = plt.subplot(1, 3, 3)\n",
    "ax3.bar(xvalues, Both_disk_percent, color = color)\n",
    "addlabels(xvalues, Both_disk_percent)\n",
    "plt.ylabel('Both Disk Usage Metrics')\n",
    "plt.xlabel('Range of Inputs')\n",
    "\n",
    "plt.show()"
   ]
  },
  {
   "cell_type": "markdown",
   "id": "326cb7c2",
   "metadata": {},
   "source": [
    "<center><h3  style=\"color:MediumSeaGreen;\" >Independent  Comparision  Of RSS For  BST   AVL  Concurrent Process</h3></center>"
   ]
  },
  {
   "cell_type": "code",
   "execution_count": 140,
   "id": "a821b023",
   "metadata": {},
   "outputs": [
    {
     "data": {
      "image/png": "[encoded data removed]",
      "text/plain": [
       "<Figure size 1440x288 with 3 Axes>"
      ]
     },
     "metadata": {
      "needs_background": "light"
     },
     "output_type": "display_data"
    }
   ],
   "source": [
    "def addlabels(x,y):\n",
    "    for i in range(len(x)):\n",
    "        plt.text(i, y[i], y[i], ha = 'center')\n",
    "xvalues = [str(i) for i in inputs]\n",
    "color = [\"#eb8060\", \"#b9e38d\", \"#a1e9f0\", \"#d9b1f0\"]\n",
    "fig = plt.figure(figsize=(20,4))\n",
    "\n",
    "ax1 = plt.subplot(1, 3, 1)\n",
    "ax1.bar(xvalues, Bst_rss, color = color)\n",
    "addlabels(xvalues, Bst_rss)\n",
    "plt.ylabel('BST RSS Metrics')\n",
    "plt.xlabel('Range of Inputs')\n",
    "\n",
    "ax2 = plt.subplot(1, 3, 2)\n",
    "ax2.bar(xvalues, Avl_rss, color = color)\n",
    "addlabels(xvalues, Avl_rss)\n",
    "plt.ylabel('AVL RSS Metrics')\n",
    "plt.xlabel('Range of Inputs')\n",
    "\n",
    "ax3 = plt.subplot(1, 3, 3)\n",
    "ax3.bar(xvalues, Both_rss, color = color)\n",
    "addlabels(xvalues, Both_rss)\n",
    "plt.ylabel('Both RSS Metrics')\n",
    "plt.xlabel('Range of Inputs')\n",
    "\n",
    "plt.show()"
   ]
  },
  {
   "cell_type": "markdown",
   "id": "d431c369",
   "metadata": {},
   "source": [
    "<center><h3  style=\"color:MediumSeaGreen;\" >Independent  Comparision  Of VMS For  BST   AVL  Concurrent Process</h3></center>"
   ]
  },
  {
   "cell_type": "code",
   "execution_count": 141,
   "id": "f5f36282",
   "metadata": {},
   "outputs": [
    {
     "data": {
      "image/png": "[encoded data removed]",
      "text/plain": [
       "<Figure size 1440x288 with 3 Axes>"
      ]
     },
     "metadata": {
      "needs_background": "light"
     },
     "output_type": "display_data"
    }
   ],
   "source": [
    "def addlabels(x,y):\n",
    "    for i in range(len(x)):\n",
    "        plt.text(i, y[i], y[i], ha = 'center')\n",
    "xvalues = [str(i) for i in inputs]\n",
    "color = [\"#eb8060\", \"#b9e38d\", \"#a1e9f0\", \"#d9b1f0\"]\n",
    "fig = plt.figure(figsize=(20,4))\n",
    "\n",
    "ax1 = plt.subplot(1, 3, 1)\n",
    "ax1.bar(xvalues, Bst_vms, color = color)\n",
    "addlabels(xvalues, Bst_vms)\n",
    "plt.ylabel('BST VMS Metrics')\n",
    "plt.xlabel('Range of Inputs')\n",
    "\n",
    "ax2 = plt.subplot(1, 3, 2)\n",
    "ax2.bar(xvalues, Avl_vms, color = color)\n",
    "addlabels(xvalues, Avl_vms)\n",
    "plt.ylabel('AVL VMS Metrics')\n",
    "plt.xlabel('Range of Inputs')\n",
    "\n",
    "ax3 = plt.subplot(1, 3, 3)\n",
    "ax3.bar(xvalues, Both_vms, color = color)\n",
    "addlabels(xvalues, Both_vms)\n",
    "plt.ylabel('Both VMS Metrics')\n",
    "plt.xlabel('Range of Inputs')\n",
    "\n",
    "plt.show()"
   ]
  },
  {
   "cell_type": "markdown",
   "id": "62de788e",
   "metadata": {},
   "source": [
    "<center><h3  style=\"color:MediumSeaGreen;\" >Independent  Comparision  Of Number of Page Faults For  BST   AVL  Concurrent Process</h3></center>"
   ]
  },
  {
   "cell_type": "code",
   "execution_count": 142,
   "id": "502cd1f2",
   "metadata": {},
   "outputs": [
    {
     "data": {
      "image/png": "[encoded data removed]",
      "text/plain": [
       "<Figure size 1440x288 with 3 Axes>"
      ]
     },
     "metadata": {
      "needs_background": "light"
     },
     "output_type": "display_data"
    }
   ],
   "source": [
    "def addlabels(x,y):\n",
    "    for i in range(len(x)):\n",
    "        plt.text(i, y[i], y[i], ha = 'center')\n",
    "xvalues = [str(i) for i in inputs]\n",
    "color = [\"#eb8060\", \"#b9e38d\", \"#a1e9f0\", \"#d9b1f0\"]\n",
    "fig = plt.figure(figsize=(20,4))\n",
    "\n",
    "ax1 = plt.subplot(1, 3, 1)\n",
    "ax1.bar(xvalues, Bst_faults, color = color)\n",
    "addlabels(xvalues, Bst_faults)\n",
    "plt.ylabel('BST page faults Metrics')\n",
    "plt.xlabel('Range of Inputs')\n",
    "\n",
    "ax2 = plt.subplot(1, 3, 2)\n",
    "ax2.bar(xvalues, Avl_faults, color = color)\n",
    "addlabels(xvalues, Avl_faults)\n",
    "plt.ylabel('AVL page faults Metrics')\n",
    "plt.xlabel('Range of Inputs')\n",
    "\n",
    "ax3 = plt.subplot(1, 3, 3)\n",
    "ax3.bar(xvalues, Both_faults, color = color)\n",
    "addlabels(xvalues, Both_faults)\n",
    "plt.ylabel('Both Page Faults Metrics')\n",
    "plt.xlabel('Range of Inputs')\n",
    "\n",
    "plt.show()"
   ]
  },
  {
   "cell_type": "markdown",
   "id": "9747f2be",
   "metadata": {},
   "source": [
    "<center><h3  style=\"color:MediumSeaGreen;\" >Combined Comparision  Of Execution Times For  BST   AVL  Concurrent Process</h3></center>"
   ]
  },
  {
   "cell_type": "code",
   "execution_count": 143,
   "id": "b844e779",
   "metadata": {},
   "outputs": [
    {
     "data": {
      "image/png": "[encoded data removed]",
      "text/plain": [
       "<Figure size 720x360 with 1 Axes>"
      ]
     },
     "metadata": {
      "needs_background": "light"
     },
     "output_type": "display_data"
    },
    {
     "name": "stdout",
     "output_type": "stream",
     "text": [
      "BST EXECUTION TIMES [0.0, 0.005, 0.032, 0.067]\n",
      "AVL EXECUTION TIMES [0.004, 0.017, 0.2979, 0.2308]\n",
      "CONCURRENT EXECUTION TIMES [0.1869, 0.3237, 0.2999, 0.269]\n"
     ]
    }
   ],
   "source": [
    "import numpy as np\n",
    "\n",
    "fig = plt.figure(figsize=(10,5))\n",
    "\n",
    "plt.plot(xvalues, Bst_Execution_Time, color='blue', marker='o', label=\"Execution Times(BST)\")\n",
    "for x, y in zip(xvalues, Bst_Execution_Time):\n",
    "    label = \"{:.6f}\".format(y)\n",
    "    plt.annotate(label, (x, y), textcoords=\"offset points\", xytext=(10,10), color='blue', ha='left', va='top')\n",
    "\n",
    "plt.plot(xvalues, Avl_Execution_Time, color='red', marker='v', label=\"Execution Times(AVL)\")\n",
    "for x, y in zip(xvalues, Avl_Execution_Time):\n",
    "    label = \"{:.6f}\".format(y)\n",
    "    plt.annotate(label, (x, y), textcoords=\"offset points\", xytext=(10,10), color='red', ha='left', va='top')\n",
    "\n",
    "plt.plot(xvalues, Both_Execution_Time, color='green', marker='*', label=\"Execution Times(CONCURRENCY)\")\n",
    "for x, y in zip(xvalues, Both_Execution_Time):\n",
    "    label = \"{:.6f}\".format(y)\n",
    "    plt.annotate(label, (x, y), textcoords=\"offset points\", xytext=(10,10), color='green', ha='left', va='top')\n",
    "\n",
    "plt.legend(bbox_to_anchor=(1,1), loc=\"upper left\")\n",
    "plt.xlabel(\"Input Length\")\n",
    "plt.ylabel(\"Execution time(Sec)\")\n",
    "plt.show()\n",
    "\n",
    "\n",
    "print(\"BST EXECUTION TIMES\" ,           Bst_Execution_Time)\n",
    "print(\"AVL EXECUTION TIMES\" ,           Avl_Execution_Time)\n",
    "print(\"CONCURRENT EXECUTION TIMES\",     Both_Execution_Time)"
   ]
  },
  {
   "cell_type": "markdown",
   "id": "7945a05a",
   "metadata": {},
   "source": [
    "<center><h3  style=\"color:MediumSeaGreen;\" >Analysis Of Execution Times For  BST   AVL  Concurrent Process  </h3></center>"
   ]
  },
  {
   "cell_type": "markdown",
   "id": "03a3f6c0",
   "metadata": {},
   "source": [
    "<p>From the Above Graph, the Execution times of BST is way lesser than Execution Times of AVL for different range of input sizes , This is justified as AVL employs rotations(right/left) to balance the tree every time and BST would not balance the tree. The same trend is observed for different range of inputs. Concurrent process takes higher times as both processes runs parallelly taking higher time than BST and AVL combined </p>"
   ]
  },
  {
   "cell_type": "markdown",
   "id": "43a35c8e",
   "metadata": {},
   "source": [
    "<center><h3  style=\"color:MediumSeaGreen;\" >Combined Comparision  Of CPU Usages For  BST   AVL  Concurrent Process</h3></center>"
   ]
  },
  {
   "cell_type": "code",
   "execution_count": 144,
   "id": "5a82090d",
   "metadata": {},
   "outputs": [
    {
     "data": {
      "image/png": "[encoded data removed]",
      "text/plain": [
       "<Figure size 864x576 with 1 Axes>"
      ]
     },
     "metadata": {
      "needs_background": "light"
     },
     "output_type": "display_data"
    },
    {
     "name": "stdout",
     "output_type": "stream",
     "text": [
      "BST CPU USAGES [23.2, 4.625, 6.225, 3.1]\n",
      "AVL CPU USAGES [28.225, 11.4, 7.575, 7.375]\n",
      "CONCURRENT CPU USAGES [8.05, 5.775, 8.925, 6.375]\n"
     ]
    }
   ],
   "source": [
    "import numpy as np\n",
    "\n",
    "x_axis = np.arange(len(xvalues))\n",
    "fig = plt.figure(figsize=(12,8))\n",
    "plt.bar(x_axis - 0.2, Bst_cpu, 0.2, label=\"BST\")\n",
    "plt.bar(x_axis, Avl_cpu, 0.2, label=\"AVL\")\n",
    "plt.bar(x_axis + 0.2, Both_cpu, 0.2, label=\"Concurrency\")\n",
    "\n",
    "plt.xticks(x_axis, xvalues)\n",
    "plt.xlabel(\"Range of Inputs\")\n",
    "plt.ylabel(\"Cpu_Usages\")\n",
    "plt.title(\"BST vs AVL Cpu Usage Comparision\")\n",
    "plt.legend()\n",
    "plt.show()\n",
    "\n",
    "\n",
    "print(\"BST CPU USAGES\" ,          Bst_cpu)\n",
    "print(\"AVL CPU USAGES\"  ,         Avl_cpu)\n",
    "print(\"CONCURRENT CPU USAGES\" ,   Both_cpu)"
   ]
  },
  {
   "cell_type": "markdown",
   "id": "6f2a9aa2",
   "metadata": {},
   "source": [
    "<center><h3  style=\"color:MediumSeaGreen;\" >Analysis Of CPU USAGE Times For  BST   AVL  Concurrent Process  </h3></center>"
   ]
  },
  {
   "cell_type": "markdown",
   "id": "fd209e8b",
   "metadata": {},
   "source": [
    "<p>From the above graph CPU Usage Times for AVL is higher than BST as AVL rotates the tree for every insertion or deletion and BST would not, and AVL would use more CPU time. From the graph, concurrencies are taking little lesser CPU times as it would use CPU more efficiently to handle both the processes parallelly</p>"
   ]
  },
  {
   "cell_type": "markdown",
   "id": "8bb56089",
   "metadata": {},
   "source": [
    "<center><h3  style=\"color:MediumSeaGreen;\" >Combined Comparision  Of Memory Usages For  BST   AVL  Concurrent Process</h3></center>"
   ]
  },
  {
   "cell_type": "code",
   "execution_count": 150,
   "id": "a9894868",
   "metadata": {},
   "outputs": [
    {
     "data": {
      "image/png": "[encoded data removed]",
      "text/plain": [
       "<Figure size 864x576 with 1 Axes>"
      ]
     },
     "metadata": {
      "needs_background": "light"
     },
     "output_type": "display_data"
    },
    {
     "name": "stdout",
     "output_type": "stream",
     "text": [
      "BST MEMORY USAGES [1.5603, 1.5641, 1.5677, 1.4913]\n",
      "AVL MEMORY USAGES [1.5641, 1.5641, 1.4903, 1.4913]\n",
      "CONCURRENT MEMORY USAGES [1.5641, 1.5642, 1.4913, 1.4913]\n"
     ]
    }
   ],
   "source": [
    "import numpy as np\n",
    "\n",
    "x_axis = np.arange(len(xvalues))\n",
    "fig = plt.figure(figsize=(12,8))\n",
    "plt.bar(x_axis - 0.2, Bst_memory, 0.2, label=\"BST\")\n",
    "plt.bar(x_axis, Avl_memory, 0.2, label=\"AVL\")\n",
    "plt.bar(x_axis + 0.2, Both_memory, 0.2, label=\"Concurrency\")\n",
    "\n",
    "plt.xticks(x_axis, xvalues)\n",
    "plt.xlabel(\"Range of Inputs\")\n",
    "plt.ylabel(\"Memory_usage\")\n",
    "plt.title(\"BST vs AVL Memory Usage Comparision\")\n",
    "plt.legend()\n",
    "plt.show()\n",
    "\n",
    "\n",
    "print(\"BST MEMORY USAGES\" ,        Bst_memory)\n",
    "print(\"AVL MEMORY USAGES\" ,        Avl_memory)\n",
    "print(\"CONCURRENT MEMORY USAGES\",  Both_memory)"
   ]
  },
  {
   "cell_type": "markdown",
   "id": "ec4e800e",
   "metadata": {},
   "source": [
    "<center><h3  style=\"color:MediumSeaGreen;\" >Analysis Of Memory Usage Times For  BST   AVL  Concurrent Process  </h3></center>"
   ]
  },
  {
   "cell_type": "markdown",
   "id": "50d9dc6f",
   "metadata": {},
   "source": [
    "<p>The above graph shows that there is only slight variation in the memory usage for BST or AVL processes. Memory Usages of Concurrent process  are almost the same as that of AVL and BST processes, but on a slight higher side</p>"
   ]
  },
  {
   "cell_type": "markdown",
   "id": "d119c30f",
   "metadata": {},
   "source": [
    "<center><h3  style=\"color:MediumSeaGreen;\" >Combined Comparision  Of Disk Usage For  BST   AVL  Concurrent Process</h3></center>"
   ]
  },
  {
   "cell_type": "code",
   "execution_count": 151,
   "id": "1ed77d01",
   "metadata": {},
   "outputs": [
    {
     "data": {
      "image/png": "[encoded data removed]",
      "text/plain": [
       "<Figure size 864x576 with 1 Axes>"
      ]
     },
     "metadata": {
      "needs_background": "light"
     },
     "output_type": "display_data"
    },
    {
     "name": "stdout",
     "output_type": "stream",
     "text": [
      "BST DISK USAGES [73.8, 73.8, 73.8, 73.8]\n",
      "AVL DISK USAGES [73.8, 73.8, 73.8, 73.8]\n",
      "CONCURRENT DISK USAGES [73.8, 73.8, 73.8, 73.8]\n"
     ]
    }
   ],
   "source": [
    "import numpy as np\n",
    "\n",
    "x_axis = np.arange(len(xvalues))\n",
    "fig = plt.figure(figsize=(12,8))\n",
    "plt.bar(x_axis - 0.2, Bst_disk_percent, 0.2, label=\"BST\")\n",
    "plt.bar(x_axis, Avl_disk_percent, 0.2, label=\"AVL\")\n",
    "plt.bar(x_axis + 0.2, Both_disk_percent, 0.2, label=\"Concurrency\")\n",
    "\n",
    "plt.xticks(x_axis, xvalues)\n",
    "plt.xlabel(\"Range of Inputs\")\n",
    "plt.ylabel(\"Disk_usage\")\n",
    "plt.title(\"BST vs AVL Disk Usage Comparision\")\n",
    "plt.legend()\n",
    "plt.show()\n",
    "\n",
    "\n",
    "print(\"BST DISK USAGES\" ,          Bst_disk_percent)\n",
    "print(\"AVL DISK USAGES\" ,          Avl_disk_percent)\n",
    "print(\"CONCURRENT DISK USAGES\" ,   Both_disk_percent)"
   ]
  },
  {
   "cell_type": "markdown",
   "id": "dff944c2",
   "metadata": {},
   "source": [
    "<center><h3  style=\"color:MediumSeaGreen;\" >Analysis Of  Disk  Usages For  BST   AVL  Concurrent Process  </h3></center>"
   ]
  },
  {
   "cell_type": "markdown",
   "id": "5ab7d0d1",
   "metadata": {},
   "source": [
    "<p>The above graph shows equal usage for two algorithms(BST and AVL) as these algorithms dont use disk and only use main memory.</p>"
   ]
  },
  {
   "cell_type": "markdown",
   "id": "ce1c5b7d",
   "metadata": {},
   "source": [
    "<center><h3  style=\"color:MediumSeaGreen;\" >Combined Comparision  Of RSS For  BST   AVL  Concurrent Process</h3></center>"
   ]
  },
  {
   "cell_type": "code",
   "execution_count": 152,
   "id": "905ce358",
   "metadata": {},
   "outputs": [
    {
     "data": {
      "image/png": "[encoded data removed]",
      "text/plain": [
       "<Figure size 864x576 with 1 Axes>"
      ]
     },
     "metadata": {
      "needs_background": "light"
     },
     "output_type": "display_data"
    },
    {
     "name": "stdout",
     "output_type": "stream",
     "text": [
      "BST RSS [132526080, 132849664, 133156864, 126664704]\n",
      "AVL RSS [132849664, 132849664, 126578688, 126664704]\n",
      "CONCURRENT RSS [132849664, 132853760, 126660608, 126664704]\n"
     ]
    }
   ],
   "source": [
    "import numpy as np\n",
    "\n",
    "x_axis = np.arange(len(xvalues))\n",
    "fig = plt.figure(figsize=(12,8))\n",
    "plt.bar(x_axis - 0.2, Bst_rss, 0.2, label=\"BST\")\n",
    "plt.bar(x_axis, Avl_rss, 0.2, label=\"AVL\")\n",
    "plt.bar(x_axis + 0.2, Both_rss, 0.2, label=\"Concurrency\")\n",
    "\n",
    "plt.xticks(x_axis, xvalues)\n",
    "plt.xlabel(\"Range of Inputs\")\n",
    "plt.ylabel(\"RSS\")\n",
    "plt.title(\"BST vs AVL Disk RSS Comparision\")\n",
    "plt.legend()\n",
    "plt.show()\n",
    "\n",
    "\n",
    "print(\"BST RSS\" ,          Bst_rss)\n",
    "print(\"AVL RSS\",           Avl_rss)\n",
    "print(\"CONCURRENT RSS\" ,   Both_rss)"
   ]
  },
  {
   "cell_type": "markdown",
   "id": "cac6e3e6",
   "metadata": {},
   "source": [
    "<center><h3  style=\"color:MediumSeaGreen;\" >Analysis Of  RSS For  BST   AVL  Concurrent Process  </h3></center>"
   ]
  },
  {
   "cell_type": "markdown",
   "id": "0d8a2cec",
   "metadata": {},
   "source": [
    "<p>The above graph shows that AVL has higher RSS values when compared with BST and concurrent process is on slightly higher side when compared with both BST and AVL , across different range of inputs</p>"
   ]
  },
  {
   "cell_type": "markdown",
   "id": "7705c5b0",
   "metadata": {},
   "source": [
    "<center><h3  style=\"color:MediumSeaGreen;\" >Combined Comparision  Of VMS For  BST   AVL  Concurrent Process</h3></center>"
   ]
  },
  {
   "cell_type": "code",
   "execution_count": 153,
   "id": "f3673020",
   "metadata": {},
   "outputs": [
    {
     "data": {
      "image/png": "[encoded data removed]",
      "text/plain": [
       "<Figure size 864x576 with 1 Axes>"
      ]
     },
     "metadata": {
      "needs_background": "light"
     },
     "output_type": "display_data"
    },
    {
     "name": "stdout",
     "output_type": "stream",
     "text": [
      "BST VMS [160735232, 160735232, 160735232, 153460736]\n",
      "AVL VMS [160735232, 160735232, 153460736, 153460736]\n",
      "CONCURRENT VMS [160735232, 160735232, 153460736, 153460736]\n"
     ]
    }
   ],
   "source": [
    "import numpy as np\n",
    "\n",
    "x_axis = np.arange(len(xvalues))\n",
    "fig = plt.figure(figsize=(12,8))\n",
    "plt.bar(x_axis - 0.2, Bst_vms, 0.2, label=\"BST\")\n",
    "plt.bar(x_axis, Avl_vms, 0.2, label=\"AVL\")\n",
    "plt.bar(x_axis + 0.2, Both_vms, 0.2, label=\"Concurrency\")\n",
    "\n",
    "plt.xticks(x_axis, xvalues)\n",
    "plt.xlabel(\"Range of Inputs\")\n",
    "plt.ylabel(\"VMS\")\n",
    "plt.title(\"BST vs AVL Disk VMS Comparision\")\n",
    "plt.legend()\n",
    "plt.show()\n",
    "\n",
    "\n",
    "print(\"BST VMS\"  ,   Bst_vms)\n",
    "print(\"AVL VMS\"   ,  Avl_vms)\n",
    "print(\"CONCURRENT VMS\" , Both_vms)"
   ]
  },
  {
   "cell_type": "markdown",
   "id": "1797b57d",
   "metadata": {},
   "source": [
    "<center><h3  style=\"color:MediumSeaGreen;\" >Analysis Of VMS For  BST   AVL  Concurrent Process  </h3></center>"
   ]
  },
  {
   "cell_type": "markdown",
   "id": "490ac9d2",
   "metadata": {},
   "source": [
    "<p>The above graph shows that BST , AVL and Concurrent processes have the same Virtual memory usage</p>"
   ]
  },
  {
   "cell_type": "markdown",
   "id": "9db5e0d1",
   "metadata": {},
   "source": [
    "<center><h3  style=\"color:MediumSeaGreen;\" >Combined Comparision  Of Number of Page Faults For  BST   AVL  Concurrent Process</h3></center>"
   ]
  },
  {
   "cell_type": "code",
   "execution_count": 154,
   "id": "4a1301ed",
   "metadata": {},
   "outputs": [
    {
     "data": {
      "image/png": "[encoded data removed]",
      "text/plain": [
       "<Figure size 864x576 with 1 Axes>"
      ]
     },
     "metadata": {
      "needs_background": "light"
     },
     "output_type": "display_data"
    },
    {
     "name": "stdout",
     "output_type": "stream",
     "text": [
      "BST PAGE FAULTS [118987, 118987, 119062, 119128]\n",
      "AVL PAGE FAULTS [118987, 118987, 119119, 119128]\n",
      "CONCURRENT PAGE FAULTS [118987, 118988, 119127, 119128]\n"
     ]
    }
   ],
   "source": [
    "import numpy as np\n",
    "\n",
    "x_axis = np.arange(len(xvalues))\n",
    "fig = plt.figure(figsize=(12,8))\n",
    "plt.bar(x_axis - 0.2, Bst_faults, 0.2, label=\"BST\")\n",
    "plt.bar(x_axis, Avl_faults, 0.2, label=\"AVL\")\n",
    "plt.bar(x_axis + 0.2, Both_faults, 0.2, label=\"Concurrency\")\n",
    "\n",
    "plt.xticks(x_axis, xvalues)\n",
    "plt.xlabel(\"Range of Inputs\")\n",
    "plt.ylabel(\"Page Faults\")\n",
    "plt.title(\"BST vs AVL Page Faults Comparision\")\n",
    "plt.legend()\n",
    "plt.show()\n",
    "\n",
    "\n",
    "print(\"BST PAGE FAULTS\" ,  Bst_faults)\n",
    "print(\"AVL PAGE FAULTS\" ,  Avl_faults)\n",
    "print(\"CONCURRENT PAGE FAULTS\",  Both_faults)"
   ]
  },
  {
   "cell_type": "markdown",
   "id": "e50300e0",
   "metadata": {},
   "source": [
    "<center><h3  style=\"color:MediumSeaGreen;\" >Analysis Of Page Faults For  BST   AVL  Concurrent Process  </h3></center>"
   ]
  },
  {
   "cell_type": "markdown",
   "id": "d5186517",
   "metadata": {},
   "source": [
    "<p>The above graph shows that the number of page faults is the same for BST and AVL , with concurrent process on a slightly higher side</p>"
   ]
  },
  {
   "cell_type": "code",
   "execution_count": null,
   "id": "0b486b4b",
   "metadata": {},
   "outputs": [],
   "source": []
  }
 ],
 "metadata": {
  "kernelspec": {
   "display_name": "Python 3 (ipykernel)",
   "language": "python",
   "name": "python3"
  },
  "language_info": {
   "codemirror_mode": {
    "name": "ipython",
    "version": 3
   },
   "file_extension": ".py",
   "mimetype": "text/x-python",
   "name": "python",
   "nbconvert_exporter": "python",
   "pygments_lexer": "ipython3",
   "version": "3.9.7"
  }
 },
 "nbformat": 4,
 "nbformat_minor": 5
}
